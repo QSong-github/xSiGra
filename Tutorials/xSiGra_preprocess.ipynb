{
 "cells": [
  {
   "cell_type": "markdown",
   "id": "869bf62c",
   "metadata": {},
   "source": [
    "# Preprocessing Nanostring Lung cancer data"
   ]
  },
  {
   "cell_type": "markdown",
   "id": "fe9eed91",
   "metadata": {},
   "source": [
    "### 1. Download dataset"
   ]
  },
  {
   "cell_type": "markdown",
   "id": "7fbab79e",
   "metadata": {},
   "source": [
    "Download the dataset from [here](https://nanostring.com/products/cosmx-spatial-molecular-imager/ffpe-dataset/)\n",
    "You will get:\n",
    "1. gene expression matrix \"Lung13_Rep1_exprMat_file.csv\"\n",
    "2. gene expression annotation \"matched_annotation_all_lung13.csv\"\n",
    "3. Histology images for 20 fovs (CellComposite_F001.jpg , ...)\n",
    "\n",
    "Folder structure should be as follows\n",
    "\n",
    "The data folder structure is like:  \n",
    "```\n",
    "├── dataset  \n",
    "│   └── nanostring \n",
    "│        └── Lung13_Rep1_exprMat_file.csv  \n",
    "│        └── matched_annotation_all_lung13.csv  \n",
    "│        └──lung13 \n",
    "│              └── fov1  \n",
    "│                   ├── CellComposite_F001.jpg  \n",
    "│              └── fov2  \n",
    "│                   ├── CellComposite_F002.jpg  \n",
    "│              └── ...  \n",
    "│              └── fov20  \n",
    "│                    ├── ...  \n",
    "```"
   ]
  },
  {
   "cell_type": "markdown",
   "id": "bd910498",
   "metadata": {},
   "source": [
    "### 2. Import required modules"
   ]
  },
  {
   "cell_type": "code",
   "execution_count": 1,
   "id": "35aa1e59",
   "metadata": {},
   "outputs": [],
   "source": [
    "import pandas as pd\n",
    "import numpy as np\n",
    "import scanpy as sc\n",
    "import anndata as AD\n",
    "import cv2\n",
    "import os\n",
    "import warnings\n",
    "warnings.filterwarnings('ignore')"
   ]
  },
  {
   "cell_type": "markdown",
   "id": "0dd03e0e",
   "metadata": {},
   "source": [
    "### 3. Define fovs"
   ]
  },
  {
   "cell_type": "code",
   "execution_count": 2,
   "id": "19affd4b",
   "metadata": {},
   "outputs": [],
   "source": [
    "ids = [\n",
    "        'fov1', 'fov2', 'fov3', 'fov4', 'fov5',\n",
    "        'fov6', 'fov7', 'fov8', 'fov9', 'fov10',\n",
    "        'fov11', 'fov12', 'fov13', 'fov14', 'fov15',\n",
    "        'fov16', 'fov17', 'fov18', 'fov19', 'fov20'\n",
    "    ]\n",
    "img_names = [\n",
    "    'F001', 'F002', 'F003', 'F004', 'F005',\n",
    "    'F006', 'F007', 'F008', 'F009', 'F010',\n",
    "    'F011', 'F012', 'F013', 'F014', 'F015',\n",
    "    'F016', 'F017', 'F018', 'F019', 'F020',\n",
    "]"
   ]
  },
  {
   "cell_type": "markdown",
   "id": "d5e94e78",
   "metadata": {},
   "source": [
    "### 4. Step by step processing for one fov"
   ]
  },
  {
   "cell_type": "markdown",
   "id": "0b444b05",
   "metadata": {},
   "source": [
    "### 4.1. Define parameters"
   ]
  },
  {
   "cell_type": "code",
   "execution_count": 3,
   "id": "fc1825d4",
   "metadata": {},
   "outputs": [],
   "source": [
    "root = '../dataset/nanostring/lung13'\n",
    "id = 'fov1'\n",
    "img_id = 'F001'\n",
    "fov = 1"
   ]
  },
  {
   "cell_type": "markdown",
   "id": "e5df5cef",
   "metadata": {},
   "source": [
    "### 4.2. Read gene expression and image"
   ]
  },
  {
   "cell_type": "code",
   "execution_count": 4,
   "id": "eaa499c6",
   "metadata": {},
   "outputs": [],
   "source": [
    "img_root = os.path.join(root, id, 'CellComposite_%s.jpg'%(img_id))\n",
    "img = cv2.imread(img_root)\n",
    "height, width, c = img.shape\n",
    "gene_expression = os.path.join(root, 'Lung13_exprMat_file.csv')\n",
    "ge = pd.read_csv(gene_expression, delimiter=',')"
   ]
  },
  {
   "cell_type": "markdown",
   "id": "5f3f6c81",
   "metadata": {},
   "source": [
    "### 4.3. Filter gene expression for current fov 1"
   ]
  },
  {
   "cell_type": "code",
   "execution_count": 5,
   "id": "19dfa6fd",
   "metadata": {},
   "outputs": [],
   "source": [
    "gene_f1 = ge[ge['fov'] == int(fov)]\n",
    "gene_f1 = gene_f1.drop(columns=['fov'])\n",
    "gene_f1 = gene_f1.set_index('cell_ID')\n",
    "idx = gene_f1.index"
   ]
  },
  {
   "cell_type": "markdown",
   "id": "241be65d",
   "metadata": {},
   "source": [
    "### 4.4. Get annotation for fov 1"
   ]
  },
  {
   "cell_type": "code",
   "execution_count": 6,
   "id": "8e3cadcf",
   "metadata": {},
   "outputs": [],
   "source": [
    "annor = os.path.join(root, 'matched_annotation_lung13.csv')\n",
    "anno = pd.read_csv(annor)\n",
    "anno_f1 = anno[anno['fov'] == int(fov)]\t\n"
   ]
  },
  {
   "cell_type": "markdown",
   "id": "8d6f9493",
   "metadata": {},
   "source": [
    "### 4.5. Get image patch match cell centre to image"
   ]
  },
  {
   "cell_type": "code",
   "execution_count": 7,
   "id": "69c2a4f4",
   "metadata": {},
   "outputs": [],
   "source": [
    "w, h = 60, 60\n",
    "\n",
    "for i, row in anno_f1.iterrows():\n",
    "    cx, cy = float(anno_f1['CenterX_local_px'][i]), float(anno_f1['CenterY_local_px'][i])\n",
    "    anno_f1['CenterY_local_px'][i] = height - float(anno_f1['CenterY_local_px'][i])\n",
    "\n",
    "    if cx - w < 0 or cx + w > width or cy - h < 0 or cy + h > height:\n",
    "        anno_f1['cell_type'][i] = np.nan\n",
    "        \n",
    "anno_f1 = anno_f1.set_index('cell_ID').reindex(idx)"
   ]
  },
  {
   "cell_type": "markdown",
   "id": "149b89dd",
   "metadata": {},
   "source": [
    "### 4.6. Drop corresponding rows in gene expression if the annotation is nan"
   ]
  },
  {
   "cell_type": "code",
   "execution_count": 8,
   "id": "b9d98ace",
   "metadata": {},
   "outputs": [],
   "source": [
    "gene_f1['cell_type'] = anno_f1['cell_type']\n",
    "# gene_f1['niche'] = anno_f1['niche']\n",
    "gene_f1 = gene_f1.dropna(axis=0, how='any')\n",
    "gene_f1 = gene_f1.drop(columns=['cell_type'])"
   ]
  },
  {
   "cell_type": "markdown",
   "id": "ff6930de",
   "metadata": {},
   "source": [
    "### 4.7. Build anndata"
   ]
  },
  {
   "cell_type": "code",
   "execution_count": 9,
   "id": "fe08b748",
   "metadata": {},
   "outputs": [],
   "source": [
    "adata = AD.AnnData(gene_f1)\n",
    "anno_f1.index = anno_f1.index.map(str)\n",
    "\n",
    "adata.obs['cell_type'] = anno_f1.loc[adata.obs_names, 'cell_type']\n",
    "# adata.obs['niche'] = anno_f1.loc[adata.obs_names, 'niche']\n",
    "\n",
    "adata.obs['cx'] = anno_f1.loc[adata.obs_names, 'CenterX_local_px']\n",
    "adata.obs['cy'] = anno_f1.loc[adata.obs_names, 'CenterY_local_px']\n",
    "\n",
    "adata.obs['cx_g'] = anno_f1.loc[adata.obs_names, 'CenterX_global_px']\n",
    "adata.obs['cy_g'] = anno_f1.loc[adata.obs_names, 'CenterY_global_px']\n",
    "\n",
    "df = pd.DataFrame(index=adata.obs.index)\n",
    "df['cx'] = adata.obs['cx']\n",
    "df['cy'] = adata.obs['cy']\n",
    "arr = df.to_numpy()\n",
    "adata.obsm['spatial'] = arr\n",
    "\n",
    "df = pd.DataFrame(index=adata.obs.index)\n",
    "df['cx_g'] = adata.obs['cx_g']\n",
    "df['cy_g'] = adata.obs['cy_g']\n",
    "arr = df.to_numpy()\n",
    "\n",
    "adata.obsm['spatial_global'] = arr\n"
   ]
  },
  {
   "cell_type": "markdown",
   "id": "b4c99940",
   "metadata": {},
   "source": [
    "### 4.8. Merge cell types if required"
   ]
  },
  {
   "cell_type": "code",
   "execution_count": 10,
   "id": "f83e50bc",
   "metadata": {},
   "outputs": [],
   "source": [
    "dicts = {}\n",
    "\n",
    "dicts['T CD8 memory'] = 'lymphocyte'\n",
    "dicts['T CD8 naive'] = 'lymphocyte'\n",
    "dicts['T CD4 naive'] = 'lymphocyte'\n",
    "dicts['T CD4 memory'] = 'lymphocyte'\n",
    "dicts['Treg'] = 'lymphocyte'\n",
    "dicts['B-cell'] = 'lymphocyte'\n",
    "dicts['plasmablast'] = 'lymphocyte'\n",
    "dicts['NK'] = 'lymphocyte'\n",
    "dicts['monocyte'] = 'Mcell'\n",
    "dicts['macrophage'] = 'Mcell'\n",
    "dicts['mDC'] = 'Mcell'\n",
    "dicts['pDC'] = 'Mcell'\n",
    "dicts['tumors'] = 'tumors'\n",
    "dicts[\"myeloid\"] = \"myeloid\"\n",
    "dicts[\"lymphocyte\"] = \"lymphocyte\"\n",
    "dicts['epithelial'] = 'epithelial'\n",
    "dicts['mast'] = 'mast'\n",
    "dicts['endothelial'] = 'endothelial'\n",
    "dicts['fibroblast'] = 'fibroblast'\n",
    "dicts['neutrophil'] = 'neutrophil'\n",
    "\n",
    "adata.obs['merge_cell_type'] = np.zeros(adata.shape[0])\n",
    "for key, v in dicts.items():\n",
    "    idx = (adata.obs['cell_type'] == key)\n",
    "    adata.obs['merge_cell_type'][idx] = v"
   ]
  },
  {
   "cell_type": "markdown",
   "id": "5c5bb8f2",
   "metadata": {},
   "source": [
    "### 4.9. Save anndata"
   ]
  },
  {
   "cell_type": "code",
   "execution_count": 11,
   "id": "93910bd0",
   "metadata": {},
   "outputs": [],
   "source": [
    "# adata.obs['merge_cell_type'] = adata.obs['cell_type'].astype('category')\n",
    "adata.obs.columns = adata.obs.columns.astype(str)\n",
    "adata.var.columns = adata.var.columns.astype(str)\n",
    "adata.write(os.path.join(root, id, 'sampledata.h5ad'))\n"
   ]
  },
  {
   "cell_type": "markdown",
   "id": "8aea32f0",
   "metadata": {},
   "source": [
    "### 4.10. Define function for preprocessing"
   ]
  },
  {
   "cell_type": "code",
   "execution_count": 12,
   "id": "83879285",
   "metadata": {},
   "outputs": [],
   "source": [
    "def gen_h5ad(id, img_id, fov):\n",
    "    root = '../dataset/nanostring/lung13/'\n",
    "    img_root = os.path.join(root, id, 'CellComposite_%s.jpg'%(img_id))\n",
    "    print(img_root)\n",
    "    img = cv2.imread(img_root)\n",
    "    height, width, c = img.shape\n",
    "    gene_expression = os.path.join(root, 'Lung13_exprMat_file.csv')\n",
    "    ge = pd.read_csv(gene_expression, delimiter=',')\n",
    "    gene_f1 = ge[ge['fov'] == int(fov)]\n",
    "    gene_f1 = gene_f1.drop(columns=['fov'])\n",
    "    gene_f1 = gene_f1.set_index('cell_ID')\n",
    "    idx = gene_f1.index\n",
    "    annor = os.path.join(root, 'matched_annotation_lung13.csv')\n",
    "    anno = pd.read_csv(annor)\n",
    "    anno_f1 = anno[anno['fov'] == int(fov)]\n",
    "    w, h = 60, 60\n",
    "\n",
    "    for i, row in anno_f1.iterrows():\n",
    "        cx, cy = float(anno_f1['CenterX_local_px'][i]), float(anno_f1['CenterY_local_px'][i])\n",
    "        anno_f1['CenterY_local_px'][i] = height - float(anno_f1['CenterY_local_px'][i])\n",
    "\n",
    "        if cx - w < 0 or cx + w > width or cy - h < 0 or cy + h > height:\n",
    "            anno_f1['cell_type'][i] = np.nan\n",
    "\n",
    "    anno_f1 = anno_f1.set_index('cell_ID').reindex(idx)\n",
    "\n",
    "\n",
    "\n",
    "    gene_f1['cell_type'] = anno_f1['cell_type']\n",
    "    #gene_f1['niche'] = anno_f1['niche']\n",
    "    gene_f1 = gene_f1.dropna(axis=0, how='any')\n",
    "    gene_f1 = gene_f1.drop(columns=['cell_type'])\n",
    "\n",
    "    adata = AD.AnnData(gene_f1)\n",
    "    anno_f1.index = anno_f1.index.map(str)\n",
    "\n",
    "    adata.obs['cell_type'] = anno_f1.loc[adata.obs_names, 'cell_type']\n",
    "    # adata.obs['niche'] = anno_f1.loc[adata.obs_names, 'niche']\n",
    "\n",
    "    adata.obs['cx'] = anno_f1.loc[adata.obs_names, 'CenterX_local_px']\n",
    "    adata.obs['cy'] = anno_f1.loc[adata.obs_names, 'CenterY_local_px']\n",
    "\n",
    "    adata.obs['cx_g'] = anno_f1.loc[adata.obs_names, 'CenterX_global_px']\n",
    "    adata.obs['cy_g'] = anno_f1.loc[adata.obs_names, 'CenterY_global_px']\n",
    "\n",
    "    df = pd.DataFrame(index=adata.obs.index)\n",
    "    df['cx'] = adata.obs['cx']\n",
    "    df['cy'] = adata.obs['cy']\n",
    "    arr = df.to_numpy()\n",
    "    adata.obsm['spatial'] = arr\n",
    "\n",
    "    df = pd.DataFrame(index=adata.obs.index)\n",
    "    df['cx_g'] = adata.obs['cx_g']\n",
    "    df['cy_g'] = adata.obs['cy_g']\n",
    "    arr = df.to_numpy()\n",
    "\n",
    "    adata.obsm['spatial_global'] = arr\n",
    "\n",
    "    dicts = {}\n",
    "\n",
    "    dicts['T CD8 memory'] = 'lymphocyte'\n",
    "    dicts['T CD8 naive'] = 'lymphocyte'\n",
    "    dicts['T CD4 naive'] = 'lymphocyte'\n",
    "    dicts['T CD4 memory'] = 'lymphocyte'\n",
    "    dicts['Treg'] = 'lymphocyte'\n",
    "    dicts['B-cell'] = 'lymphocyte'\n",
    "    dicts['plasmablast'] = 'lymphocyte'\n",
    "    dicts['NK'] = 'lymphocyte'\n",
    "    dicts['monocyte'] = 'Mcell'\n",
    "    dicts['macrophage'] = 'Mcell'\n",
    "    dicts['mDC'] = 'Mcell'\n",
    "    dicts['pDC'] = 'Mcell'\n",
    "    dicts['tumors'] = 'tumors'\n",
    "    dicts['myeloid'] = 'myeloid'\n",
    "    dicts['lymphocyte'] = 'lymphocyte'\n",
    "    dicts['epithelial'] = 'epithelial'\n",
    "    dicts['mast'] = 'mast'\n",
    "    dicts['endothelial'] = 'endothelial'\n",
    "    dicts['fibroblast'] = 'fibroblast'\n",
    "    dicts['neutrophil'] = 'neutrophil'\n",
    "\n",
    "    adata.obs['merge_cell_type'] = np.zeros(adata.shape[0])\n",
    "    for key, v in dicts.items():\n",
    "        idx = (adata.obs['cell_type'] == key)\n",
    "        adata.obs['merge_cell_type'][idx] = v\n",
    "\n",
    "    #adata.obs['merge_cell_type'] = adata.obs['cell_type'].astype('category')\n",
    "    adata.obs.columns = adata.obs.columns.astype(str)\n",
    "    adata.var.columns = adata.var.columns.astype(str)\n",
    "\n",
    "    # adata.raw.var.columns = adata.raw.var.columns.astype(str)\n",
    "    # adata.obsm['imgs'].columns = adata.obsm['imgs'].columns.astype(str)\n",
    "    adata.write(os.path.join(root, id, 'sampledata.h5ad'))\n"
   ]
  },
  {
   "cell_type": "markdown",
   "id": "e919089c",
   "metadata": {},
   "source": [
    "### 4.11. Preprocessing for each fov for lung13"
   ]
  },
  {
   "cell_type": "code",
   "execution_count": 13,
   "id": "778692a2",
   "metadata": {
    "scrolled": false
   },
   "outputs": [
    {
     "name": "stdout",
     "output_type": "stream",
     "text": [
      "../dataset/nanostring/lung13/fov1/CellComposite_F001.jpg\n",
      "../dataset/nanostring/lung13/fov2/CellComposite_F002.jpg\n",
      "../dataset/nanostring/lung13/fov3/CellComposite_F003.jpg\n",
      "../dataset/nanostring/lung13/fov4/CellComposite_F004.jpg\n",
      "../dataset/nanostring/lung13/fov5/CellComposite_F005.jpg\n",
      "../dataset/nanostring/lung13/fov6/CellComposite_F006.jpg\n",
      "../dataset/nanostring/lung13/fov7/CellComposite_F007.jpg\n",
      "../dataset/nanostring/lung13/fov8/CellComposite_F008.jpg\n",
      "../dataset/nanostring/lung13/fov9/CellComposite_F009.jpg\n",
      "../dataset/nanostring/lung13/fov10/CellComposite_F010.jpg\n",
      "../dataset/nanostring/lung13/fov11/CellComposite_F011.jpg\n",
      "../dataset/nanostring/lung13/fov12/CellComposite_F012.jpg\n",
      "../dataset/nanostring/lung13/fov13/CellComposite_F013.jpg\n",
      "../dataset/nanostring/lung13/fov14/CellComposite_F014.jpg\n",
      "../dataset/nanostring/lung13/fov15/CellComposite_F015.jpg\n",
      "../dataset/nanostring/lung13/fov16/CellComposite_F016.jpg\n",
      "../dataset/nanostring/lung13/fov17/CellComposite_F017.jpg\n",
      "../dataset/nanostring/lung13/fov18/CellComposite_F018.jpg\n",
      "../dataset/nanostring/lung13/fov19/CellComposite_F019.jpg\n",
      "../dataset/nanostring/lung13/fov20/CellComposite_F020.jpg\n"
     ]
    }
   ],
   "source": [
    "fov = 1\n",
    "for id, imname in zip(ids, img_names):\n",
    "    gen_h5ad(id, imname, fov)\n",
    "    fov += 1"
   ]
  }
 ],
 "metadata": {
  "kernelspec": {
   "display_name": "Python 3 (ipykernel)",
   "language": "python",
   "name": "python3"
  },
  "language_info": {
   "codemirror_mode": {
    "name": "ipython",
    "version": 3
   },
   "file_extension": ".py",
   "mimetype": "text/x-python",
   "name": "python",
   "nbconvert_exporter": "python",
   "pygments_lexer": "ipython3",
   "version": "3.10.9"
  },
  "vscode": {
   "interpreter": {
    "hash": "916dbcbb3f70747c44a77c7bcd40155683ae19c65e1c03b4aa3499c5328201f1"
   }
  }
 },
 "nbformat": 4,
 "nbformat_minor": 5
}
